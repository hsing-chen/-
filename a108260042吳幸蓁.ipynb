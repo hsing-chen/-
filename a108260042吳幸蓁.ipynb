{
  "nbformat": 4,
  "nbformat_minor": 0,
  "metadata": {
    "colab": {
      "name": "a108260042吳幸蓁.ipynb",
      "provenance": []
    },
    "kernelspec": {
      "name": "python3",
      "display_name": "Python 3"
    }
  },
  "cells": [
    {
      "cell_type": "code",
      "metadata": {
        "id": "FxZBOm-6LVXj",
        "colab_type": "code",
        "colab": {
          "base_uri": "https://localhost:8080/",
          "height": 34
        },
        "outputId": "1372dc83-4847-46fe-a591-e9f1a40d3e27"
      },
      "source": [
        "上衣=int(input('請輸入上衣數量?'))"
      ],
      "execution_count": 8,
      "outputs": [
        {
          "output_type": "stream",
          "text": [
            "請輸入上衣數量?2\n"
          ],
          "name": "stdout"
        }
      ]
    },
    {
      "cell_type": "code",
      "metadata": {
        "id": "kcXjkmKrPSGw",
        "colab_type": "code",
        "colab": {
          "base_uri": "https://localhost:8080/",
          "height": 34
        },
        "outputId": "1b94b2d0-4832-416a-b5f2-53c42cfaab54"
      },
      "source": [
        "褲子=int(input('請輸入褲子數量?'))"
      ],
      "execution_count": 5,
      "outputs": [
        {
          "output_type": "stream",
          "text": [
            "請輸入褲子數量?3\n"
          ],
          "name": "stdout"
        }
      ]
    },
    {
      "cell_type": "code",
      "metadata": {
        "id": "BeM3oOJrP3R1",
        "colab_type": "code",
        "colab": {
          "base_uri": "https://localhost:8080/",
          "height": 34
        },
        "outputId": "95dfd5e5-c18f-4393-9e2d-8dd0773cef2a"
      },
      "source": [
        "背心=int(input('請輸入背心數量?'))"
      ],
      "execution_count": 7,
      "outputs": [
        {
          "output_type": "stream",
          "text": [
            "請輸入背心數量?1\n"
          ],
          "name": "stdout"
        }
      ]
    },
    {
      "cell_type": "code",
      "metadata": {
        "id": "eBfR8B_sQDeY",
        "colab_type": "code",
        "colab": {}
      },
      "source": [
        "總金額=上衣*300+褲子*350+背心*400"
      ],
      "execution_count": 0,
      "outputs": []
    },
    {
      "cell_type": "code",
      "metadata": {
        "id": "2BqcJ3OhR55M",
        "colab_type": "code",
        "colab": {
          "base_uri": "https://localhost:8080/",
          "height": 34
        },
        "outputId": "4c33df62-0bec-4c98-ad55-d629dc3fe3f6"
      },
      "source": [
        "print('訂購服裝的總金額為',總金額)"
      ],
      "execution_count": 13,
      "outputs": [
        {
          "output_type": "stream",
          "text": [
            "訂購服裝的總金額為 2050\n"
          ],
          "name": "stdout"
        }
      ]
    },
    {
      "cell_type": "code",
      "metadata": {
        "id": "26XpBBvYSNas",
        "colab_type": "code",
        "colab": {
          "base_uri": "https://localhost:8080/",
          "height": 34
        },
        "outputId": "bb3cda3a-9076-48e2-8bb9-c144323e4796"
      },
      "source": [
        "半徑=float(input('請輸入半徑?'))"
      ],
      "execution_count": 14,
      "outputs": [
        {
          "output_type": "stream",
          "text": [
            "請輸入半徑?10\n"
          ],
          "name": "stdout"
        }
      ]
    },
    {
      "cell_type": "code",
      "metadata": {
        "id": "OvgYQAfPSglc",
        "colab_type": "code",
        "colab": {}
      },
      "source": [
        "PI=3.14159"
      ],
      "execution_count": 0,
      "outputs": []
    },
    {
      "cell_type": "code",
      "metadata": {
        "id": "--qT9IwFSmJY",
        "colab_type": "code",
        "colab": {}
      },
      "source": [
        "圓周長=2*PI*半徑"
      ],
      "execution_count": 0,
      "outputs": []
    },
    {
      "cell_type": "code",
      "metadata": {
        "id": "ugMbs1OYSvEc",
        "colab_type": "code",
        "colab": {}
      },
      "source": [
        "圓面積=半徑*半徑*PI"
      ],
      "execution_count": 0,
      "outputs": []
    },
    {
      "cell_type": "code",
      "metadata": {
        "id": "NkVKL3xOTCrU",
        "colab_type": "code",
        "colab": {
          "base_uri": "https://localhost:8080/",
          "height": 34
        },
        "outputId": "ecc1943c-1499-4b36-e21e-4055b2be8180"
      },
      "source": [
        "print('圓周長為',圓周長,'圓面積為',圓面積)"
      ],
      "execution_count": 18,
      "outputs": [
        {
          "output_type": "stream",
          "text": [
            "圓周長為 62.8318 圓面積為 314.159\n"
          ],
          "name": "stdout"
        }
      ]
    },
    {
      "cell_type": "code",
      "metadata": {
        "id": "b1OacXqVTgAA",
        "colab_type": "code",
        "colab": {
          "base_uri": "https://localhost:8080/",
          "height": 34
        },
        "outputId": "3a91e071-6b21-4d6a-8fe3-e4bd58ec0cc0"
      },
      "source": [
        "c=float(input('請輸入攝氏溫度?'))"
      ],
      "execution_count": 22,
      "outputs": [
        {
          "output_type": "stream",
          "text": [
            "請輸入攝氏溫度?50\n"
          ],
          "name": "stdout"
        }
      ]
    },
    {
      "cell_type": "code",
      "metadata": {
        "id": "pTjsoTpDTyK3",
        "colab_type": "code",
        "colab": {}
      },
      "source": [
        "f=c*9/5+32"
      ],
      "execution_count": 0,
      "outputs": []
    },
    {
      "cell_type": "code",
      "metadata": {
        "id": "mzLHgd_sT3kF",
        "colab_type": "code",
        "colab": {
          "base_uri": "https://localhost:8080/",
          "height": 34
        },
        "outputId": "cc8e1f21-8812-4811-f2d8-d24412239259"
      },
      "source": [
        "print('華氏溫度為',f)"
      ],
      "execution_count": 24,
      "outputs": [
        {
          "output_type": "stream",
          "text": [
            "華氏溫度為 122.0\n"
          ],
          "name": "stdout"
        }
      ]
    },
    {
      "cell_type": "code",
      "metadata": {
        "id": "nIiY1R7UUR3z",
        "colab_type": "code",
        "colab": {
          "base_uri": "https://localhost:8080/",
          "height": 34
        },
        "outputId": "c656a569-5a0c-4978-f551-4b2ddf184f92"
      },
      "source": [
        "money=int(input('請輸入本金?'))"
      ],
      "execution_count": 25,
      "outputs": [
        {
          "output_type": "stream",
          "text": [
            "請輸入本金?10000\n"
          ],
          "name": "stdout"
        }
      ]
    },
    {
      "cell_type": "code",
      "metadata": {
        "id": "paJ0Wz9qUlXQ",
        "colab_type": "code",
        "colab": {
          "base_uri": "https://localhost:8080/",
          "height": 34
        },
        "outputId": "7718067d-9471-415d-d599-680c2d0f0671"
      },
      "source": [
        "interest=float(input('請輸入年利率(%)?'))"
      ],
      "execution_count": 26,
      "outputs": [
        {
          "output_type": "stream",
          "text": [
            "請輸入年利率(%)?1.5\n"
          ],
          "name": "stdout"
        }
      ]
    },
    {
      "cell_type": "code",
      "metadata": {
        "id": "6tv4hRMjVZrp",
        "colab_type": "code",
        "colab": {}
      },
      "source": [
        "y1=money*(1+interest/100)"
      ],
      "execution_count": 0,
      "outputs": []
    },
    {
      "cell_type": "code",
      "metadata": {
        "id": "VuXM27L6Vj4c",
        "colab_type": "code",
        "colab": {}
      },
      "source": [
        "y2=money*((1+interest/100)**2)"
      ],
      "execution_count": 0,
      "outputs": []
    },
    {
      "cell_type": "code",
      "metadata": {
        "id": "njp-zHFyVuBH",
        "colab_type": "code",
        "colab": {}
      },
      "source": [
        "y3=money*((1+interest/100)**3)"
      ],
      "execution_count": 0,
      "outputs": []
    },
    {
      "cell_type": "code",
      "metadata": {
        "id": "9WG36GByV8SJ",
        "colab_type": "code",
        "colab": {
          "base_uri": "https://localhost:8080/",
          "height": 34
        },
        "outputId": "ceb7bc7e-aba2-4bcc-cd29-44fb144122c5"
      },
      "source": [
        "print('第一年本利和為',y1)"
      ],
      "execution_count": 30,
      "outputs": [
        {
          "output_type": "stream",
          "text": [
            "第一年本利和為 10149.999999999998\n"
          ],
          "name": "stdout"
        }
      ]
    },
    {
      "cell_type": "code",
      "metadata": {
        "id": "vBwWUKO3WHWl",
        "colab_type": "code",
        "colab": {
          "base_uri": "https://localhost:8080/",
          "height": 34
        },
        "outputId": "d02bbe1d-3984-4731-9b1c-ded1ec78a8f8"
      },
      "source": [
        "print('第二年本利和為',y2)"
      ],
      "execution_count": 31,
      "outputs": [
        {
          "output_type": "stream",
          "text": [
            "第二年本利和為 10302.249999999996\n"
          ],
          "name": "stdout"
        }
      ]
    },
    {
      "cell_type": "code",
      "metadata": {
        "id": "6I-FsHh2WOzp",
        "colab_type": "code",
        "colab": {
          "base_uri": "https://localhost:8080/",
          "height": 34
        },
        "outputId": "7f64cce9-ebeb-403b-ac34-221778f2ce3a"
      },
      "source": [
        "print('第三年本利和為',y3)"
      ],
      "execution_count": 32,
      "outputs": [
        {
          "output_type": "stream",
          "text": [
            "第三年本利和為 10456.783749999997\n"
          ],
          "name": "stdout"
        }
      ]
    },
    {
      "cell_type": "code",
      "metadata": {
        "id": "tjSyWRGKWYEN",
        "colab_type": "code",
        "colab": {
          "base_uri": "https://localhost:8080/",
          "height": 34
        },
        "outputId": "4841f073-d561-4105-f62e-6e7077842c2a"
      },
      "source": [
        "s=input('請輸入一個字串?')"
      ],
      "execution_count": 33,
      "outputs": [
        {
          "output_type": "stream",
          "text": [
            "請輸入一個字串?abvba\n"
          ],
          "name": "stdout"
        }
      ]
    },
    {
      "cell_type": "code",
      "metadata": {
        "id": "_aUA1EifWuzD",
        "colab_type": "code",
        "colab": {
          "base_uri": "https://localhost:8080/",
          "height": 34
        },
        "outputId": "c86a6cc0-72e3-4a04-d1c2-e6f7d7efa10d"
      },
      "source": [
        "print('迴文判斷結果為',s==s[::-1])"
      ],
      "execution_count": 35,
      "outputs": [
        {
          "output_type": "stream",
          "text": [
            "迴文判斷結果為 True\n"
          ],
          "name": "stdout"
        }
      ]
    }
  ]
}