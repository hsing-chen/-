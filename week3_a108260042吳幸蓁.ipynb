{
  "nbformat": 4,
  "nbformat_minor": 0,
  "metadata": {
    "colab": {
      "name": "week3-a108260042吳幸蓁.ipynb",
      "provenance": []
    },
    "kernelspec": {
      "name": "python3",
      "display_name": "Python 3"
    }
  },
  "cells": [
    {
      "cell_type": "code",
      "metadata": {
        "id": "rwG27pB2HT4L",
        "colab_type": "code",
        "colab": {
          "base_uri": "https://localhost:8080/",
          "height": 34
        },
        "outputId": "c4e45dfc-197d-497f-b91b-ea1f065c3139"
      },
      "source": [
        "print(\"hello 哈囉你好喵喵喵\")"
      ],
      "execution_count": 5,
      "outputs": [
        {
          "output_type": "stream",
          "text": [
            "hello 哈囉你好喵喵喵\n"
          ],
          "name": "stdout"
        }
      ]
    }
  ]
}