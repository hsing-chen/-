{
  "nbformat": 4,
  "nbformat_minor": 0,
  "metadata": {
    "colab": {
      "name": "Week6-A108260042吳幸蓁.ipynb",
      "provenance": [],
      "collapsed_sections": []
    },
    "kernelspec": {
      "name": "python3",
      "display_name": "Python 3"
    }
  },
  "cells": [
    {
      "cell_type": "code",
      "metadata": {
        "id": "xxkt747AQTsa",
        "colab_type": "code",
        "colab": {}
      },
      "source": [
        "x = int(input('請輸入第一次期中考成績?'))\n",
        "print('第一次期中考成績為', x)\n",
        "y = int(input('請輸入第二次期中考成績?'))\n",
        "print('第二次期中考成績為', y)\n",
        "z = int(input('請輸入期末成績'))\n",
        "print('期末成績為', z)\n",
        "總分 = x + y + z\n",
        "平均 = (x + y + z)/3\n",
        "print('總分為', 總分,'平均為', 平均)"
      ],
      "execution_count": 0,
      "outputs": []
    },
    {
      "cell_type": "code",
      "metadata": {
        "id": "zWuh3xxuRq70",
        "colab_type": "code",
        "colab": {}
      },
      "source": [
        "w = int(input('請輸入幾尺'))\n",
        "print(w,'尺')\n",
        "t = int(input('請輸入幾吋'))\n",
        "print(t,'吋')\n",
        "f = (w*12+t)*2.54\n",
        "print('轉換成',f,'公分')"
      ],
      "execution_count": 0,
      "outputs": []
    },
    {
      "cell_type": "code",
      "metadata": {
        "id": "LO-jS16US2IR",
        "colab_type": "code",
        "colab": {}
      },
      "source": [
        "e = int(input('請輸入座號'))\n",
        "l = e/5\n",
        "print('組別為', )"
      ],
      "execution_count": 0,
      "outputs": []
    },
    {
      "cell_type": "code",
      "metadata": {
        "id": "jWpJTfcTVZ82",
        "colab_type": "code",
        "colab": {}
      },
      "source": [
        "u = int(input('請輸入購買飲料的罐數'))\n",
        "p = u/12\n",
        "v = int(p)*200\n",
        "y = int(p)\n",
        "l = 12*y\n",
        "h = (u - l)*20\n",
        "x = h+v\n",
        "print('需花費', x)"
      ],
      "execution_count": 0,
      "outputs": []
    }
  ]
}